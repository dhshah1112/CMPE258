{
  "nbformat": 4,
  "nbformat_minor": 0,
  "metadata": {
    "colab": {
      "provenance": []
    },
    "kernelspec": {
      "name": "python3",
      "display_name": "Python 3"
    },
    "language_info": {
      "name": "python"
    }
  },
  "cells": [
    {
      "cell_type": "code",
      "source": [
        "!pip install openai"
      ],
      "metadata": {
        "colab": {
          "base_uri": "https://localhost:8080/"
        },
        "id": "_pqdzWaFnYXK",
        "outputId": "1caac43d-73fc-4248-aeb2-394413bf544d"
      },
      "execution_count": 1,
      "outputs": [
        {
          "output_type": "stream",
          "name": "stdout",
          "text": [
            "Collecting openai\n",
            "  Downloading openai-1.14.3-py3-none-any.whl (262 kB)\n",
            "\u001b[2K     \u001b[90m━━━━━━━━━━━━━━━━━━━━━━━━━━━━━━━━━━━━━━━━\u001b[0m \u001b[32m262.9/262.9 kB\u001b[0m \u001b[31m2.3 MB/s\u001b[0m eta \u001b[36m0:00:00\u001b[0m\n",
            "\u001b[?25hRequirement already satisfied: anyio<5,>=3.5.0 in /usr/local/lib/python3.10/dist-packages (from openai) (3.7.1)\n",
            "Requirement already satisfied: distro<2,>=1.7.0 in /usr/lib/python3/dist-packages (from openai) (1.7.0)\n",
            "Collecting httpx<1,>=0.23.0 (from openai)\n",
            "  Downloading httpx-0.27.0-py3-none-any.whl (75 kB)\n",
            "\u001b[2K     \u001b[90m━━━━━━━━━━━━━━━━━━━━━━━━━━━━━━━━━━━━━━━━\u001b[0m \u001b[32m75.6/75.6 kB\u001b[0m \u001b[31m4.6 MB/s\u001b[0m eta \u001b[36m0:00:00\u001b[0m\n",
            "\u001b[?25hRequirement already satisfied: pydantic<3,>=1.9.0 in /usr/local/lib/python3.10/dist-packages (from openai) (2.6.4)\n",
            "Requirement already satisfied: sniffio in /usr/local/lib/python3.10/dist-packages (from openai) (1.3.1)\n",
            "Requirement already satisfied: tqdm>4 in /usr/local/lib/python3.10/dist-packages (from openai) (4.66.2)\n",
            "Requirement already satisfied: typing-extensions<5,>=4.7 in /usr/local/lib/python3.10/dist-packages (from openai) (4.10.0)\n",
            "Requirement already satisfied: idna>=2.8 in /usr/local/lib/python3.10/dist-packages (from anyio<5,>=3.5.0->openai) (3.6)\n",
            "Requirement already satisfied: exceptiongroup in /usr/local/lib/python3.10/dist-packages (from anyio<5,>=3.5.0->openai) (1.2.0)\n",
            "Requirement already satisfied: certifi in /usr/local/lib/python3.10/dist-packages (from httpx<1,>=0.23.0->openai) (2024.2.2)\n",
            "Collecting httpcore==1.* (from httpx<1,>=0.23.0->openai)\n",
            "  Downloading httpcore-1.0.4-py3-none-any.whl (77 kB)\n",
            "\u001b[2K     \u001b[90m━━━━━━━━━━━━━━━━━━━━━━━━━━━━━━━━━━━━━━━━\u001b[0m \u001b[32m77.8/77.8 kB\u001b[0m \u001b[31m4.8 MB/s\u001b[0m eta \u001b[36m0:00:00\u001b[0m\n",
            "\u001b[?25hCollecting h11<0.15,>=0.13 (from httpcore==1.*->httpx<1,>=0.23.0->openai)\n",
            "  Downloading h11-0.14.0-py3-none-any.whl (58 kB)\n",
            "\u001b[2K     \u001b[90m━━━━━━━━━━━━━━━━━━━━━━━━━━━━━━━━━━━━━━━━\u001b[0m \u001b[32m58.3/58.3 kB\u001b[0m \u001b[31m4.6 MB/s\u001b[0m eta \u001b[36m0:00:00\u001b[0m\n",
            "\u001b[?25hRequirement already satisfied: annotated-types>=0.4.0 in /usr/local/lib/python3.10/dist-packages (from pydantic<3,>=1.9.0->openai) (0.6.0)\n",
            "Requirement already satisfied: pydantic-core==2.16.3 in /usr/local/lib/python3.10/dist-packages (from pydantic<3,>=1.9.0->openai) (2.16.3)\n",
            "Installing collected packages: h11, httpcore, httpx, openai\n",
            "Successfully installed h11-0.14.0 httpcore-1.0.4 httpx-0.27.0 openai-1.14.3\n"
          ]
        }
      ]
    },
    {
      "cell_type": "code",
      "source": [
        "from openai import OpenAI\n",
        "import requests\n",
        "from google.colab import userdata\n",
        "OPENAI_API_KEY = userdata.get('OPENAI_API_KEY')"
      ],
      "metadata": {
        "id": "8Vh_alJVnYTi"
      },
      "execution_count": 2,
      "outputs": []
    },
    {
      "cell_type": "code",
      "source": [
        "client = OpenAI(\n",
        "    api_key=OPENAI_API_KEY,\n",
        ")\n",
        "\n",
        "\n",
        "def get_response(response):\n",
        "  return response.choices[0].message.content\n",
        "\n",
        "\n",
        "def query(text_to_summarize):\n",
        "  response = client.chat.completions.create(\n",
        "    model=\"gpt-4\",\n",
        "    messages=[\n",
        "      {\n",
        "        \"role\": \"system\",\n",
        "        \"content\": \"Always give output in bullet points. You are an expert at NLP tasks. You will be given a text and you need to generate a summary that should be of 30% of the length of text provided to you.\"\n",
        "      },\n",
        "      {\n",
        "        \"role\": \"user\",\n",
        "        \"content\": text_to_summarize\n",
        "      }\n",
        "    ],\n",
        "    temperature=0.7,\n",
        "    max_tokens=64,\n",
        "    top_p=1\n",
        "  )\n",
        "  return get_response(response)\n"
      ],
      "metadata": {
        "id": "sEWjLrAXMPRf"
      },
      "execution_count": 3,
      "outputs": []
    },
    {
      "cell_type": "code",
      "source": [
        "def print_summary(text_to_summarize):\n",
        "    summary = query(text_to_summarize)\n",
        "    print(f\"Original Text: {text_to_summarize[:100]}...\")\n",
        "    print(f\"Summary: {summary}\")"
      ],
      "metadata": {
        "id": "FyAKkBImnysU"
      },
      "execution_count": 4,
      "outputs": []
    },
    {
      "cell_type": "code",
      "source": [
        "text_to_summarize = \"The gradient is a vector calculus operation that takes a scalar-valued function (like a loss function in machine learning) and produces a vector that points in the direction of the greatest rate of increase of the function. The components of the gradient vector are the partial derivatives of the function with respect to each variable in the function's domain. In the context of optimization, the gradient is critical because it provides the information needed to adjust the parameters of the model in order to minimize (or maximize) the function. For instance, when you're training a machine learning model using a method like gradient descent, you're effectively using the gradient to tell you how to change your parameters to make your model's predictions closer to the actual observed outcomes.\"\n",
        "print_summary(text_to_summarize)"
      ],
      "metadata": {
        "colab": {
          "base_uri": "https://localhost:8080/"
        },
        "id": "U3BkmPecpR-h",
        "outputId": "9af77b5d-8dec-48c1-a28d-e492379cec87"
      },
      "execution_count": 5,
      "outputs": [
        {
          "output_type": "stream",
          "name": "stdout",
          "text": [
            "Original Text: The gradient is a vector calculus operation that takes a scalar-valued function (like a loss functio...\n",
            "Summary: - The gradient is a vector calculus operation used in scalar-valued functions like machine learning's loss function.\n",
            "- It produces a vector pointing towards the highest rate of function increase.\n",
            "- The gradient vector components are the function's partial derivatives with respect to each variable in its domain.\n",
            "- In optimization, the gradient is essential as\n"
          ]
        }
      ]
    },
    {
      "cell_type": "code",
      "source": [],
      "metadata": {
        "id": "R1L0uADcrvoP"
      },
      "execution_count": null,
      "outputs": []
    },
    {
      "cell_type": "code",
      "source": [
        "text_to_summarize = \"\"\" Sachin Ramesh Tendulkar, (/ˌsʌtʃɪn tɛnˈduːlkər/ ⓘ; pronounced [sətɕin teːɳɖulkəɾ]; born 24 April 1973) is an Indian former international cricketer who captained the Indian national team. He is widely regarded as one of the greatest batsmen in the history of cricket.[4] Hailed as the world's most prolific batsman of all time, he is the all-time highest run-scorer in both ODI and Test cricket with more than 18,000 runs and 15,000 runs, respectively.[5] He also holds the record for receiving the most player of the match awards in international cricket.[6] Tendulkar was a Member of Parliament, Rajya Sabha by nomination from 2012 to 2018.[7][8]\n",
        "\n",
        "\n",
        "Early career\n",
        "On 14 November 1987, at age 14, Tendulkar was selected to represent Bombay in the Ranji Trophy for the 1987–88 season, but he was not selected for the final eleven in any of the matches, though he was often used as a substitute fielder.[44] A year later, on 11 December 1988, aged 15 years and 232 days, Tendulkar made his debut for Bombay against Gujarat at Wankhede Stadium and scored 100 not out in that match, making him the youngest Indian to score a century on debut in first-class cricket.[57] He was selected to play for the team by Bombay captain Dilip Vengsarkar who watched him play Kapil Dev in Wankhede Stadium's cricket practice nets,[30] where the Indian team had come to play against the touring New Zealand team. Tendulkar followed this by scoring a century each in his Deodhar and Duleep Trophy debut, which are also India's domestic cricket tournaments.[58]\n",
        "\n",
        "Tendulkar finished the 1988–89 Ranji Trophy season as Bombay's highest run-scorer. He scored 583 runs at an average of 67.77, and was the eighth-highest run-scorer overall.[59] In both 1988 and 1989, he was picked for a young Indian team to tour England under the Star Cricket Club banner.[60] In the 1990–91 Ranji Trophy final, which Bombay narrowly lost to Haryana, Tendulkar's 96 from 75 balls was key to giving Bombay a chance of victory as it attempted to chase 355 from only 70 overs on the final day.[61]\n",
        "\n",
        "At the start of the 1989–90 season, while playing for Rest of India, Tendulkar scored an unbeaten century in an Irani Trophy match against Delhi.[62]\n",
        "Tendulkar was the youngest player to debut for India in Tests at the age of 16 years and 205 days, and also the youngest player to debut for India in ODI at the age of 16 years and 238 days.[72][73] Tendulkar made his Test debut against Pakistan in Karachi in November 1989 aged 16 years and 205 days. He scored 15 runs, being bowled by Waqar Younis, who also made his debut in that match. He was noted for how he handled numerous blows to his body at the hands of the Pakistani pace attack.[74] In the fourth and final Test match in Sialkot, he was hit on the nose by a bouncer bowled by Younis, but he declined medical assistance and continued to bat even as he his nose gushed blood.[75] In a 20-over exhibition game in Peshawar, held in parallel with the bilateral series, Tendulkar made 53 runs off 18 balls, including an over in which he scored 27 runs bowled by leg-spinner Abdul Qadir.[76] This was later called \"one of the best innings I have seen\" by the then Indian captain Krishnamachari Srikkanth.[77] In all, Tendulkar scored 215 runs at an average of 35.83 in the Test series, and was dismissed without scoring a run in the only One Day International (ODI) he played.[78][79]\n",
        "\n",
        "The series was followed by a tour of New Zealand in which he scored 117 runs at an average of 29.25 in Tests.[80] He was dismissed without scoring in one of the two ODI games he played, and scored 36 in the other.[81] On a 1990 tour to England, on 14 August, he became the second-youngest cricketer to score a Test century as he made 119 not out in the second Test at Old Trafford in Manchester.[75] Wisden described his innings as \"a disciplined display of immense maturity\" and also wrote, \"He looked the embodiment of India's famous opener, Gavaskar, and indeed was wearing a pair of his pads. While he displayed a full repertoire of strokes in compiling his maiden Test hundred, most remarkable were his off-side shots from the back foot. Though only 5ft 5in tall, he was still able to control without difficulty short deliveries from the English pacemen\".[82]\n",
        "\n",
        "Tendulkar's reputation grew during the 1991–92 tour of Australia held before the 1992 Cricket World Cup. During the tour, he scored an unbeaten 148 in the third Test at Sydney, making him the youngest batsman to score a century in Australia. He then scored 114 on a fast, bouncing pitch in the final Test at Perth against a pace attack from Merv Hughes, Bruce Reid, and Craig McDermott. Hughes commented to Allan Border at the time that \"This little prick's going to get more runs than you, AB.\"[83]\n",
        "\n",
        "Rise through the ranks\n",
        "1994–96: ODI matches\n",
        "Tendulkar opened the batting at Auckland against New Zealand in 1994, making 82 runs off 49 balls.[84] He scored his first ODI century on 9 September 1994 against Australia in Sri Lanka at Colombo.[85][86] He competed in 78 ODIs before scoring his first century.[citation needed]\n",
        "\n",
        "\n",
        "Tendulkar waits at the bowler's end.\n",
        "Tendulkar's rise continued when he was the leading run scorer at the 1996 World Cup, scoring two centuries.[87] He was the only Indian batsman to perform well in the semi-final against Sri Lanka.[citation needed] Tendulkar fell amid a batting collapse[citation needed] and the match referee, Clive Lloyd, awarded Sri Lanka the match after the crowd began rioting and throwing litter onto the field.[88]\n",
        "\n",
        "After the World Cup, in the same year against Pakistan at Sharjah, Indian captain Mohammed Azharuddin was going through a lean patch. Tendulkar and Navjot Singh Sidhu both made centuries to set a then record partnership for the second wicket. After getting out, Tendulkar found Azharuddin in two minds about whether he should bat.[citation needed] Tendulkar convinced Azharuddin to bat and Azharuddin subsequently unleashed 24 runs off one over.[89] India went on to win that match. It enabled India to post a score in excess of 300 runs for the first time in an ODI.[90]\n",
        "\n",
        "1998: Australian competition\n",
        "Tendulkar scored 143 (131) runs in Sharjah against the Australian team in the 1998 Coca-Cola cup, including 5 sixes in an innings against Shane Warne, Damien Fleming and Michael Kasprowicz. The innings is known as the \"Desert Storm\" because it was interrupted by a sand storm. In 2020, a poll from the ICC declared it Tendulkar's best ODI innings.[91]\n",
        "\n",
        "In early 1998, while playing in an Australian tour of India, Tendulkar scored three consecutive centuries. The focus of the tour was the clash between Tendulkar and spinner Shane Warne, both at the peak of their careers.[92] In the lead-up to the series, Tendulkar simulated scenarios in the nets with Laxman Sivaramakrishnan.[93] In their tour opener, Australia faced Mumbai at the Brabourne Stadium in a three-day first class match.[94] Tendulkar scored an unbeaten 204 runs as Shane Warne conceded 111 runs in 16 overs and Australia lost the match within three days.[95][96] He also had a role with the ball in the five-match ODI series in India following the Tests, including a five wicket haul in an ODI in Kochi. Set 310 runs to win, Australia were cruising at 203 for 3 in the 31st over when Tendulkar turned the match for India, taking the wickets of Michael Bevan, Steve Waugh, Darren Lehmann, Tom Moody and Damien Martyn for 32 runs in 10 overs.[97] The Test match success was followed by two consecutive centuries in April 1998 in a Triangular cricket tournament in Sharjah—the first in a must-win game to take India to the finals and then again in the finals, both against Australia. These twin knocks were also known as the Desert Storm innings.[98] Following the series, Warne ruefully joked that he was having nightmares about his Indian nemesis.[99]\n",
        "\n",
        "Tendulkar's contribution in the ICC 1998 quarterfinal at Dhaka paved the way for India's entry into the semifinals, when he took four Australian wickets after scoring 141 runs in 128 balls.[100]\n",
        "\n",
        "1999: Asian Test Championship, Test matches, and the World Cup\n",
        "The inaugural Asian Test Championship took place in February and March 1999, involving India, Pakistan, and Sri Lanka.[101] Around 100,000 attended the first four days of the tournament, breaking a 63-year-old record for aggregate Test attendance record.[102] In the first match, between India and Pakistan at Eden Gardens, Tendulkar was dismissed from the match after colliding with Pakistan bowler Shoaib Akhtar. The crowd reacted by throwing objects at Akhtar, and the players were taken off the field. The match resumed after Tendulkar and the president of the ICC appealed to the crowd; however, further rioting meant that the match was finished in front of a crowd of 200 people.[103] Tendulkar scored his 19th Test century in the second Test and the match resulted in a draw with Sri Lanka.[104] India did not progress to the final, which was won by Pakistan, and refused to participate in the 2001–02 Asian Test Championship due to increasing political tensions between India and Pakistan.[105]\n",
        "\n",
        "In a Test match against Pakistan at Chepauk in 1999, the first of a two-Test series, Tendulkar scored 136 runs; India lost the match by 12 runs.[106]\n",
        "\n",
        "Tendulkar's father, Ramesh Tendulkar, died during the 1999 Cricket World Cup. Tendulkar flew back to India to attend the final rituals of his father, missing the match against Zimbabwe.[107] He returned to the World Cup, scoring a century (140 not out of 101 balls) in his very next match against Kenya in Bristol. He dedicated the century to his father.[108]\n",
        "\n",
        "Captaincy of national team\n",
        "Tendulkar's record as captain\n",
        " \tMatches\tWon\tLost\tDrawn\tTied\tNo result\tWin %\n",
        "Test[109]\t25\t4\t9\t12\t0\t–\t16%\n",
        "ODI[110]\t73\t23\t43\t–\t2\t6\t31.50%\n",
        "Tendulkar's two tenures as captain of the Indian cricket team were not very successful. Tendulkar became captain in 1996, but by 1997 the team was performing poorly. Discussing Tendulkar's first term as captain, Azharuddin was credited with saying, \"He won't win! It's not in the small one's destiny!\" (Hindi: \"Nahin jeetega! Chote ki naseeb main jeet nahin hai!\")[111][112]\n",
        "\n",
        "Tendulkar, succeeding Azharuddin as captain for his second term, led India on a tour of Australia, where the visitors were beaten 3–0 by the newly crowned world champions.[when?][113] Tendulkar won the player of the series award,[113] as well as player of the match in one of the games.[114] After another Test series defeat, this time by a 0–2 margin at home against South Africa, Tendulkar resigned, and Sourav Ganguly took over as captain in 2000.[115][116]\n",
        "\n",
        "South Africa match fixing\n",
        "Further information: Mohammad Azharuddin and South Africa cricket match fixing\n",
        "See also: Chandrachud Commission\n",
        "In 2000, members of the South African national team attempted to fix matches during their visit to India. After the incident, Tendulkar and three other senior cricketers worked to ensure that players \"whose performance and conduct was dubious were never picked for the Indian squad again\".[117]\n",
        "\n",
        "Role in 2007 captaincy change\n",
        "During the Indian team's 2007 tour of England, the desire of Rahul Dravid to resign from the captaincy became known. Then Board of Control for Cricket in India (BCCI) President Sharad Pawar offered the captaincy to Tendulkar, who instead recommended Mahendra Singh Dhoni. Pawar later revealed this conversation, crediting Tendulkar for suggesting Dhoni, who since achieved much success as captain.[118]\n",
        "\n",
        "Continued rise\n",
        "2001–02: Mike Denness incident, Kolkata Test, and breaking Bradman's record\n",
        "During India's 2001 tour of South Africa, in the second Test match, referee Mike Denness fined four Indian players for excessive appealing, and fined the Indian captain Sourav Ganguly for not controlling his team.[119] Denness suspended Tendulkar from one match for alleged ball tampering. Television cameras captured images that suggested Tendulkar may have been involved in cleaning the seam of the cricket ball.[120][121] The incident escalated to include sports journalists accusing Denness of racism,[122] and led to Denness being barred from entering the venue of the third Test match. The ICC revoked the status of the match as a Test as the teams rejected the appointed referee.[123] The charges against Tendulkar triggered a massive backlash from the Indian public.[124]\n",
        "\n",
        "On the final day of the Kolkata Test against Australia in 2001, Tendulkar took three wickets, including the key wickets of Matthew Hayden and Adam Gilchrist, who were centurions in the previous Test. His three wickets haul helped India win the match.[125] In the five-match ODI series that followed, he took his 100th wicket in ODIs, claiming the wicket of then Australian captain Steve Waugh in the final match at the Fatorda Stadium in Goa.[126]\n",
        "\n",
        "In the 2002 series in the West Indies, Tendulkar started well, scoring 79 in the first Test. In the second Test at Port of Spain, Sachin Tendulkar scored 117 in the first innings, his 29th Test century in his 93rd Test match, to equal Donald Bradman's record of 29 Test hundreds. He was gifted a Ferrari 360 Modena by Fiat through Michael Schumacher for achieving this feat.[127][128][129]\n",
        "\n",
        "Then, in an unprecedented sequence, he scored just 0, 0, 8, and 0 in the next four innings.[130] He returned to form in the last Test scoring 41 and 86, one half century. However, India lost the series.[131] In this period, in the third Test match against England in August 2002, Tendulkar scored his 30th Test century to surpass Bradman's haul, in his 99th Test match.[132][133]\n",
        "\n",
        "2003: Cricket World Cup\n",
        "Tendulkar made 673 runs in 11 matches in the 2003 Cricket World Cup,[134] helping India reach the final. While Australia won, Tendulkar was given the Man of the Tournament award.[135][136]\n",
        "\n",
        "\n",
        "2003–04: Tour of Australia\n",
        "The drawn series as India toured Australia in 2003–04 saw Tendulkar making his mark in the last Test of the series, scoring 241 not out from 436 balls with 33 fours at a strike rate of 55.27 in Sydney, putting India in a virtually unbeatable position. He spent 613 minutes at the crease during the innings. He followed this up with an unbeaten 60 in the second innings of the Test.[140] Prior to this Test match, he had had an unusually horrible run of form, failing in all six innings in the preceding three Tests.[citation needed] It was no aberration that 2003 was his worst year in Test cricket, with an average of 17.00 and just one fifty.[141]\n",
        "\n",
        "Tendulkar scored an unbeaten 194 against Pakistan at Multan in the following series. Indian captain Rahul Dravid declared before Tendulkar reached 200; had he done so it would have been the fourth time he had passed the landmark in Tests.[142] Tendulkar said that he was disappointed and that the declaration had taken him by surprise.[143] Many former cricketers commented that Dravid's declaration was in bad taste.[144][145] After the match, which India won, Dravid said that the matter had been discussed internally and put to rest.[146]\n",
        "\n",
        "A tennis elbow injury then took its toll on Tendulkar, leaving him out of the side for most of the year, coming back only for the last two Tests when Australia toured India in 2004.[147][148] He played a part in India's victory in Mumbai in that series with a fast 55, though Australia took the series 2–1.[149]\n",
        "\n",
        "Performance dip\n",
        "2005–06: Dry spell\n",
        "On 10 December 2005 at Feroz Shah Kotla, Tendulkar scored his record-breaking 35th Test century, against the Sri Lankans. After this, Tendulkar endured the longest[needs update] spell of his career without a Test century: 17 innings elapsed before he scored 101 against Bangladesh in May 2007.[150] Tendulkar scored his 39th ODI hundred on 6 February 2006 in a match against Pakistan.[151] He followed with a 42 in the second One-Day International against Pakistan on 11 February 2006,[152] and then a 95 in hostile, seaming conditions on 13 February 2006 in Lahore, which set up an Indian victory.[153] On 19 March 2006, after being dismissed for only one run against England in the first innings of the third Test in his home ground, Wankhede, Tendulkar was booed off the ground by a section of the crowd.[154] Tendulkar ended the three-Test series without a half-century to his credit, and the need for a shoulder operation raised more questions about his longevity.[citation needed]\n",
        "\n",
        "Tendulkar's comeback came in the DLF cup in Malaysia and he was the only Indian batsman to shine. In his comeback match, against West Indies on 14 September 2006, Tendulkar responded to his critics who believed that his career was inexorably sliding with his 40th ODI century.[155] Though he scored 141 not out, West Indies won the rain-affected match by the D/L method.[156]\n",
        "\n",
        "2007 Cricket World Cup\n",
        "Further information: India at the Cricket World Cup § India at the 2007 World Cup\n",
        "During the preparation for the 2007 World Cup, Tendulkar's attitude was criticised by Indian coach Greg Chappell. Chappell reportedly felt that Tendulkar would be more useful down the order, while Tendulkar felt that he would be better off opening the innings, the role he had played for most of his career.[157] Chappell also believed that Tendulkar's repeated failures were hurting the team's chances. In a rare show of emotion, Tendulkar hit out at the comments attributed to Chappell by pointing out that no coach had ever suggested his attitude towards cricket was incorrect. On 7 April 2007, the Board of Control for Cricket in India issued a notice to Tendulkar asking for an explanation for his comments made to the media.[158] Chappell subsequently resigned as coach but said that this affair had no bearing on his decision and that he and Tendulkar were on good terms.[157]\n",
        "\n",
        "At the World Cup in the West Indies, Tendulkar and the Indian cricket team led by Rahul Dravid had a dismal campaign. Tendulkar, who was pushed to bat lower down the order had scores of 7 against Bangladesh, 57 not out against Bermuda and 0 against Sri Lanka.[159][160][161] As a result, former Australian captain Ian Chappell, brother of Greg, called for Tendulkar to retire in his newspaper column.[162]\n",
        "\n",
        "After the loss against Bangladesh and Sri Lanka, Tendulkar suffered depression and thought to retire from cricket, but Viv Richards and Ajit Tendulkar stopped him. According to Tendulkar, 23 March 2007, the loss against Bangladesh is one of the worst days of his cricketing career.[163]\n",
        "\n",
        "Return to old form and consistency\n",
        "See also: List of players who have scored 10,000 or more runs in Test cricket and List of players who have scored 10,000 or more runs in One Day International cricket\n",
        "2007\n",
        "In 2007, in a Test series during India's tour of Bangladesh, Tendulkar returned to his opening slot and was chosen as the Man of the Series.[164] He continued by scoring 99 and 93 in the first two matches of the Future Cup against South Africa. During the second match, he also became the first to score 15,000 runs in ODIs.[165] He was the leading run scorer and was adjudged the Man of the Series.[166][167]\n",
        "\n",
        "\n",
        "Tendulkar, upon reaching his 38th Test century against Australia in the 2nd Test at the SCG in 2008, where he finished not out on 154\n",
        "On the second day of the Nottingham Test on 28 July 2007, Tendulkar became the third cricketer to complete 11,000 Test runs.[168] In the subsequent one-day series against England, Tendulkar was the leading run scorer from India[169] with an average of 53.42. In the ODI Series against Australia in October 2007 Tendulkar was the leading Indian run scorer with 278 runs.[170]\n",
        "\n",
        "Tendulkar was dismissed five times in 2007 between 90 and 100, including three times at 99, leading some to suggestions that he struggles to cope with nervousness in this phase of his innings.[171] Tendulkar has got out 27 times in the 90s during his international career.[172] In a five-ODI series against Pakistan, he was caught by Kamran Akmal off the bowling of Umar Gul for 99 in the second match at Mohali,[173] and in the fourth match of that series, he got out in the 90s for a second time, scoring 97 before dragging a delivery from Gul on to his stumps.[174]\n",
        "\n",
        "2007–08: Tour of Australia\n",
        "Further information: Indian cricket team in Australia in 2007–08 § Controversies; and Second Test, 2007–08 Border–Gavaskar Trophy\n",
        "In 2008 India's tour of Australia, at a Sydney Test match, Australian Andrew Symonds accused Indian Harbhajan Singh of using racist terminology by calling him a monkey. This matter was dubbed \"Monkeygate\" by the media.[175] Singh was suspended by the match ICC referee after hearing. Sachin Tendulkar was standing on non-striker's end, at that moment, when Symonds claimed racist comments happened. In the hearing, Tendulkar said to the ICC match referee Mike Procter, that he could not say what exactly Singh said to Symonds, but in the next hearing, Tendulkar changed his stance and said that Symonds had not said \"monkey\" but \"Teri Maa Ki...\" ('Your mother's...'). In his autobiography Playing It My Way, Tendulkar wrote, \"Teri Maa Ki..., It is an expression we often use in North India to vent our anger and to me it all part of the game\".[full citation needed] The matter became big in following days and nearly led to the cancellation of this tour.[176] Referee suspended Singh for 3 Test but after appeal and Tendulkar's statement in hearing the suspension was overturned. Andrew Symonds later said in Monkeygate- Ten years on, a documentary that was based on this matter, \"When I began to play for Mumbai Indians, IPL franchise, once Harbhajan Singh came to me and apologised.\" Symonds said in the documentary, \"We go to a very wealthy man's place for a barbecue, drinks, and dinner one night, and the whole team's there, and he had guests there, and Harbhajan said 'mate, can I speak to you for a minute out in the garden out the front?' He goes, 'look, I've got to say sorry to you for what I did to you in Sydney. I apologise.\"[177][178][179][180][181][176][excessive citations] The Herald Sun quoted, Tendulkar is still not \"forgiven\" by some Aussie players for changing his account on Monkeygate, dubbed Tendulkar as Indian \"demigod\".[182][183]\n",
        "\n",
        "In the Border-Gavaskar Trophy, 2007–08, Tendulkar showed exceptional form, becoming the leading run scorer with \"493 runs in four Tests, despite consistently failing in the second innings.[184] Tendulkar scored 62 runs in the first innings of the first Test at the MCG in Melbourne, but could not prevent a heavy 337-run win for Australia.[185] In the controversial New Years' Test at Sydney, Tendulkar scored an unbeaten 154, even though India lost the Test. This was his third century at the SCG and his 38th Test century overall, earning him an average of 326 at the ground at the time of completing the innings.[186][187] In the third Test at the WACA cricket ground in Perth, Tendulkar was instrumental in India's first innings score of 330, scoring a well-compiled 71. India went on to record a historic triumph at the WACA, ending Australia's run of 16 consecutive wins.[188] In the fourth Test at the Adelaide Oval, which ended in a draw, he scored 153 in the first innings, being involved in a crucial 126-run stand with VVS Laxman for the fifth wicket to lead India to a score of 282 for 5 from 156 for 4.[189] He secured the Man of the Match award.[190]\n",
        "\n",
        "In the One-Day International Commonwealth Bank Tri-Series involving India, Sri Lanka and Australia, Tendulkar became the only batsman to complete 16,000 runs in ODIs.[191] He achieved this feat against Sri Lanka on 5 February 2008 at the Gabba in Brisbane. He started the series wth scores of 10, 35, 44 and 32.[192] His form dipped a bit in the middle of the tournament,[original research?] but Tendulkar came back strongly in India's must-win game against Sri Lanka at the Bellerive Oval in Hobart, scoring 63 off 54 balls.[193] He finished the series with a match winning 117 not out off 120 balls in the first final,[194] and 91 runs in the second final.[195] Both the knocks were nominated to be the ODI Batting Performance of the year by ESPNcricinfo.[196]\n",
        "\n",
        "2008: Return to Tests and breaking Brian Lara's record\n",
        "South Africa toured in March and April 2008 for a three-Test series. Tendulkar scored a five-ball duck in his only innings of the series;[197] he sustained a groin strain in the match and as a result was forced not only to miss the second and third Tests, but also the tri-series involving Bangladesh, the 2008 Asia Cup, and the first half of the inaugural season of the IPL.[198]\n",
        "\n",
        "Before the Indian cricket team's tour of Sri Lanka in July 2008, Tendulkar needed 177 runs to go past Brian Lara's record of Test 11,953 runs. However, he failed in all six innings, scoring a total of 95 runs. India lost the series and his average of 15.83 was his worst in a Test series with at least three matches.[199]\n",
        "\n",
        "In the following ODI series against Sri Lanka, Tendulkar was sidelined due to injury.[200] However, during the following Australia tour of India, he returned to fitness and form, scoring 13 and 49 in the first Test[201] before making 88 in the first innings of the second Test, breaking the record for most Test runs held by Brian Lara. He also reached the 12,000-run mark when he was on 61.[202][203] He described the achievement as the biggest in 19 years of his career on the day he achieved the record.[204] He made a fifty in the third Test[205] and 109 in the fourth, as India won the series 2–0 and regained the Border-Gavaskar Trophy.[206]\n",
        "\n",
        "2008: England Series\n",
        "Tendulkar was again out of the first three ODIs of a seven-match ODI series at home against England due to an injury, but he made 11 in the fourth ODI[207] and 50 in the fifth,[208] before the series was called off due to the 2008 Mumbai terrorist attacks, the scoreline being 5–0 to India.[209][210]\n",
        "\n",
        "England returned for a two-match Test series in December 2008, and the first Test, which was originally planned to be held in Mumbai, was shifted to Chennai following the terror attacks.[209][210] Chasing 387 for victory in that match, Tendulkar scored 103 not out and shared a 163-run unbroken fifth wicket partnership with Yuvraj Singh.[211] This was his third century in the fourth innings of a Test match, and the first which resulted in a win.[212] He dedicated this century to the victims of the Mumbai terror attacks.[213] The knock was nominated to be one of the Test Batting Performance of the year by ESPNcricinfo.[214] Tendulkar scored poorly in the second Test at Mohali, which ended in a draw. India won the series 1–0.[215]\n",
        "\n",
        "2009–10: Consolidation and ODI record\n",
        "See also: List of highest individual scores in One Day International cricket\n",
        "In early 2009, India revisited Sri Lanka for five ODIs, as the Pakistan series had been cancelled due to the security situation in Pakistan and the attacks in Mumbai.[citation needed] Tendulkar scored 5, 6 and 7 in the first three matches, being dismissed leg before wicket in all of them, and did not play in the remaining two matches.[216]\n",
        "\n",
        "India's next assignment was an away series against New Zealand, consisting of three Tests and five ODIs. In the ODI series, Tendulkar made an unbeaten 163 in the third match before stomach cramps forced him to end his innings. India made 392, won the match[217] and eventually won the series 3–1.[218] Tendulkar made 160 in the first Test, his 42nd Test century, and India won.[219] He made 49 and 64 in the second Test[220] and 62 and 9 in the third, in which play was halted on the last day due to rain with India needing only two wickets to win. India won the series 1–0.[221][222]\n",
        "\n",
        "Tendulkar rested himself for the ODI tour of West Indies,[223] but was back for the Compaq Cup Tri Series between India, Sri Lanka and New Zealand in early September 2009. He made 46[224] and 27[225] in the league matches before notching up 138 in the final, as India made 319 and won by 46 runs.[226] This was Tendulkar's sixth century in a final of an ODI tournament and his third consecutive score of over 50 in such finals.[227]\n",
        "\n",
        "Tendulkar played only one innings in the ICC Champions trophy in South Africa, scoring 8 against Pakistan as India lost.[228] The next match against Australia was abandoned due to rain[229] and he was out with a stomach infection in the third match against the West Indies, as India were eliminated.[230]\n",
        "\n",
        "Australia returned for a seven-match ODI series in India in October, and Tendulkar made 14, 4, 32 and 40 in the first four games.[231] In the fifth match, with the series tied at 2–2, Australia amassed 350/4 in 50 overs.[232] Tendulkar made his 45th ODI hundred, a 175 off 141 balls. Just when it seemed that he would steer India to the large victory target, he tried to scoop a slower delivery from debutant bowler Clint McKay over short fine leg only to be caught by Nathan Hauritz, with India needing 19 runs to win with 18 balls and four wickets left. The Indian tail collapsed, and Australia won the match by three runs.[233][234] During this match, Tendulkar also became the first player to reach 17,000 ODI runs,[234][235] and achieved his personal best against Australia,[236] as well as the third-highest score in a defeat.[237] The knock was voted as the Best ODI Batting Performance of 2009 by ESPNcricinfo.[238]\n",
        "\n",
        "In the five-match ODI series against Sri Lanka in 2009–10, Tendulkar scored 69, 43, 96 not out and 8 in the first four matches,[239] with the fifth match being abandoned as the pitch was deemed unfit and potentially dangerous.[240] India won the series 3–1.[241] In the Test series that followed, he scored a 100 not out in the first Test, which was drawn, and 40 and 53 in the second and third Tests, respectively, as India clinched innings victories in both the Tests, to win the series 2–0.[242]\n",
        "\n",
        "Tendulkar rested himself for the ODI tri-series in Bangladesh in 2010, but played in the subsequent Test series.[243] He made 105 not out and 16 in the first Test, and 143 in the second. India won both the Tests.\n",
        "In the two-Test Series against South Africa, Tendulkar made 7 and 100 in the first Test.[246] He then scored 106 in the first innings of the second Test, which was his 47th hundred in Test cricket. It was also his fourth hundred in successive Tests, and he was the fourth Indian to achieve this feat.[247][248] In the second match of the subsequent ODI series, Tendulkar scored 200 not out, becoming the world's first batsman to score a double century in ODI cricket and breaking the previous highest score of 194 jointly held by Pakistan's Saeed Anwar and Zimbabwe's Charles Coventry.[Note 2]\n",
        "Tendulkar's shot to reach 14,000 Test runs. He was batting against Australia in October 2010.\n",
        "2011–12: World Cup win and final years\n",
        "See also: India at the Cricket World Cup § India at the 2011 World Cup\n",
        "From February to April, Bangladesh, India, and Sri Lanka hosted the 2011 World Cup. Amassing 482 runs at an average of 53.55 including two centuries, Tendulkar was India's leading run-scorer for the tournament; only Tillakaratne Dilshan of Sri Lanka scored more runs in the 2011 tournament,[254] and was named in the ICC \"Team of the Tournament\".[255] India defeated Sri Lanka in the final.[256] Shortly after the victory, Tendulkar commented that \"Winning the World Cup is the proudest moment of my life. ... I couldn't control my tears of joy.\n",
        "\"\"\"\n",
        "print_summary(text_to_summarize)"
      ],
      "metadata": {
        "colab": {
          "base_uri": "https://localhost:8080/"
        },
        "id": "pevbT8yzrxXc",
        "outputId": "cc66a45f-4044-404a-8239-0012272d71d3"
      },
      "execution_count": 6,
      "outputs": [
        {
          "output_type": "stream",
          "name": "stdout",
          "text": [
            "Original Text:  Sachin Ramesh Tendulkar, (/ˌsʌtʃɪn tɛnˈduːlkər/ ⓘ; pronounced [sətɕin teːɳɖulkəɾ]; born 24 April 19...\n",
            "Summary: - Sachin Tendulkar is an Indian former international cricketer who captained the Indian national team and holds records for highest run-scorer in both ODI and Test cricket.\n",
            "- Tendulkar started his career at age 14, and made his debut for Bombay against Gujarat at age 15\n"
          ]
        }
      ]
    },
    {
      "cell_type": "code",
      "source": [],
      "metadata": {
        "id": "pG6iXlswrxMg"
      },
      "execution_count": null,
      "outputs": []
    },
    {
      "cell_type": "code",
      "source": [],
      "metadata": {
        "id": "YixU0hLhuALl"
      },
      "execution_count": null,
      "outputs": []
    }
  ]
}